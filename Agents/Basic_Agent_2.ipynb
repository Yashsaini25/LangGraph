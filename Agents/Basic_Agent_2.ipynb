{
 "cells": [
  {
   "cell_type": "code",
   "execution_count": 3,
   "id": "cc976c68",
   "metadata": {},
   "outputs": [],
   "source": [
    "from typing import Dict, TypedDict, List\n",
    "from langgraph.graph import StateGraph"
   ]
  },
  {
   "cell_type": "code",
   "execution_count": 12,
   "id": "d3e3d6d4",
   "metadata": {},
   "outputs": [],
   "source": [
    "class AgentState(TypedDict):\n",
    "    values : List[int]\n",
    "    name : str\n",
    "    result : str"
   ]
  },
  {
   "cell_type": "code",
   "execution_count": 14,
   "id": "6e423fd2",
   "metadata": {},
   "outputs": [],
   "source": [
    "def processing_node(state : AgentState):\n",
    "    state[\"result\"] = f'Hi there {state[\"name\"]}! Your sum: {sum(state[\"values\"])}'\n",
    "    return state"
   ]
  },
  {
   "cell_type": "code",
   "execution_count": 15,
   "id": "2070732c",
   "metadata": {},
   "outputs": [],
   "source": [
    "graph = StateGraph(AgentState)\n",
    "\n",
    "graph.add_node(\"processor\", processing_node)\n",
    "\n",
    "graph.set_entry_point(\"processor\")\n",
    "graph.set_finish_point(\"processor\")\n",
    "\n",
    "app = graph.compile()"
   ]
  },
  {
   "cell_type": "code",
   "execution_count": 19,
   "id": "8c881bff",
   "metadata": {},
   "outputs": [],
   "source": [
    "result = app.invoke({\"values\" : [1,2,3,4], \"name\" : \"Bob\"})"
   ]
  },
  {
   "cell_type": "code",
   "execution_count": 17,
   "id": "2b8ea937",
   "metadata": {},
   "outputs": [
    {
     "data": {
      "text/plain": [
       "{'values': [1, 2, 3, 4], 'name': 'Bob', 'result': 'Hi there Bob! Your sum: 10'}"
      ]
     },
     "execution_count": 17,
     "metadata": {},
     "output_type": "execute_result"
    }
   ],
   "source": [
    "result"
   ]
  }
 ],
 "metadata": {
  "kernelspec": {
   "display_name": "Python 3",
   "language": "python",
   "name": "python3"
  },
  "language_info": {
   "codemirror_mode": {
    "name": "ipython",
    "version": 3
   },
   "file_extension": ".py",
   "mimetype": "text/x-python",
   "name": "python",
   "nbconvert_exporter": "python",
   "pygments_lexer": "ipython3",
   "version": "3.9.6"
  }
 },
 "nbformat": 4,
 "nbformat_minor": 5
}
