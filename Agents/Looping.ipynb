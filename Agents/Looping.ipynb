{
 "cells": [
  {
   "cell_type": "code",
   "execution_count": 45,
   "id": "e8089ce4",
   "metadata": {},
   "outputs": [],
   "source": [
    "from typing import Dict, TypedDict, List\n",
    "from langgraph.graph import StateGraph, START, END\n",
    "import random"
   ]
  },
  {
   "cell_type": "code",
   "execution_count": 46,
   "id": "f83ddfc4",
   "metadata": {},
   "outputs": [],
   "source": [
    "class AgentState(TypedDict):\n",
    "    name : str\n",
    "    number : List[int]\n",
    "    counter : int"
   ]
  },
  {
   "cell_type": "code",
   "execution_count": 47,
   "id": "dc618d6b",
   "metadata": {},
   "outputs": [],
   "source": [
    "def greeter(state : AgentState):\n",
    "    state['name'] = f'Hi there, {state[\"name\"]}'\n",
    "    state['counter'] = 0\n",
    "    return state\n",
    "\n",
    "\n",
    "def generator(state : AgentState):\n",
    "    state['number'].append(random.randint(0,10))\n",
    "    state['counter'] += 1\n",
    "    return state\n",
    "\n",
    "def router(state : AgentState) -> str:\n",
    "    if state['counter'] == 5:\n",
    "        return \"exit\"\n",
    "    else:\n",
    "        return \"loop\""
   ]
  },
  {
   "cell_type": "code",
   "execution_count": 48,
   "id": "3c8d941e",
   "metadata": {},
   "outputs": [],
   "source": [
    "graph = StateGraph(AgentState)\n",
    "\n",
    "graph.add_node(\"greeter\", greeter)\n",
    "graph.add_node(\"generator\", generator)\n",
    "\n",
    "graph.set_entry_point(\"greeter\")\n",
    "graph.add_edge(\"greeter\", \"generator\")\n",
    "\n",
    "graph.add_conditional_edges(\n",
    "    \"generator\",\n",
    "    router,  \n",
    "    {\n",
    "        \"loop\" : \"generator\",\n",
    "        \"exit\" : END\n",
    "    }\n",
    ")\n",
    "\n",
    "app = graph.compile()"
   ]
  },
  {
   "cell_type": "code",
   "execution_count": 51,
   "id": "6a6dc3fd",
   "metadata": {},
   "outputs": [
    {
     "data": {
      "text/plain": [
       "{'name': 'Hi there, Yash', 'number': [5, 8, 8, 1, 3], 'counter': 5}"
      ]
     },
     "execution_count": 51,
     "metadata": {},
     "output_type": "execute_result"
    }
   ],
   "source": [
    "result = app.invoke({\"name\" : \"Yash\", \"number\" : []})\n",
    "result"
   ]
  }
 ],
 "metadata": {
  "kernelspec": {
   "display_name": "Python 3",
   "language": "python",
   "name": "python3"
  },
  "language_info": {
   "codemirror_mode": {
    "name": "ipython",
    "version": 3
   },
   "file_extension": ".py",
   "mimetype": "text/x-python",
   "name": "python",
   "nbconvert_exporter": "python",
   "pygments_lexer": "ipython3",
   "version": "3.9.6"
  }
 },
 "nbformat": 4,
 "nbformat_minor": 5
}
