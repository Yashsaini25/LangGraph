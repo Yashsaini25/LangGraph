{
 "cells": [
  {
   "cell_type": "code",
   "execution_count": 15,
   "id": "5662bce5",
   "metadata": {},
   "outputs": [],
   "source": [
    "from typing import Dict, TypedDict\n",
    "from langgraph.graph import StateGraph, START, END"
   ]
  },
  {
   "cell_type": "code",
   "execution_count": 16,
   "id": "34409b58",
   "metadata": {},
   "outputs": [],
   "source": [
    "class AgentState(TypedDict):\n",
    "    num1 : int\n",
    "    num2 : int\n",
    "    num3 : int\n",
    "    d : int\n",
    "    operation : str\n",
    "    result : int"
   ]
  },
  {
   "cell_type": "code",
   "execution_count": 17,
   "id": "37202801",
   "metadata": {},
   "outputs": [],
   "source": [
    "def addition1(state:AgentState):\n",
    "    state['num2'] = state['num1'] + state['num2']\n",
    "    state['d'] = 2\n",
    "    return state\n",
    "\n",
    "def subtraction1(state:AgentState):\n",
    "    state['num2'] = state['num1'] - state['num2']\n",
    "    state['d'] = 2\n",
    "    return state\n",
    "\n",
    "def addition2(state:AgentState):\n",
    "    state['result'] = state['num2'] + state['num3']\n",
    "    return state\n",
    "\n",
    "def subtraction2(state:AgentState):\n",
    "    state['result'] = state['num2'] - state['num3']\n",
    "    return state\n",
    "\n",
    "def decide_next_move(state:AgentState):\n",
    "    if state['operation'] == '+' and state['d'] == 1:\n",
    "        return \"add_operation_1\"\n",
    "    elif state['operation'] == '+' and state['d'] == 2:\n",
    "        return \"add_operation_2\"\n",
    "    \n",
    "    elif state['operation'] == '-' and state['d'] == 1:\n",
    "        return \"sub_operation_1\"\n",
    "    elif state['operation'] == '-' and state['d'] == 2:\n",
    "        return \"sub_operation_2\"\n",
    "\n"
   ]
  },
  {
   "cell_type": "code",
   "execution_count": 23,
   "id": "c67b3a62",
   "metadata": {},
   "outputs": [],
   "source": [
    "graph = StateGraph(AgentState)\n",
    "\n",
    "graph.add_node(\"addition1\", addition1)\n",
    "graph.add_node(\"addition2\", addition2)\n",
    "graph.add_node(\"subtraction1\", subtraction1)\n",
    "graph.add_node(\"subtraction2\", subtraction2)\n",
    "graph.add_node(\"router\", lambda state:state)\n",
    "\n",
    "graph.add_edge(START, \"router\")\n",
    "\n",
    "graph.add_conditional_edges(\n",
    "    \"router\",\n",
    "    decide_next_move,\n",
    "    {\n",
    "        \"add_operation_1\" : \"addition1\",\n",
    "        \"add_operation_2\" : \"addition2\",\n",
    "        \"sub_operation_1\" : \"subtraction1\",\n",
    "        \"sub_operation_2\" : \"subtraction2\"\n",
    "    }\n",
    ")\n",
    "\n",
    "graph.add_edge(\"addition1\", \"router\")\n",
    "graph.add_edge(\"subtraction1\", \"router\")\n",
    "graph.add_edge(\"addition2\", END)\n",
    "graph.add_edge(\"subtraction2\", END)\n",
    "\n",
    "app = graph.compile()"
   ]
  },
  {
   "cell_type": "code",
   "execution_count": 20,
   "id": "bf514d10",
   "metadata": {},
   "outputs": [],
   "source": [
    "result = app.invoke({\"num1\" : 12, \"num2\" : 5, \"num3\" : 3, \"d\" : 1, \"operation\" : '+'})"
   ]
  },
  {
   "cell_type": "code",
   "execution_count": 21,
   "id": "9173ec5f",
   "metadata": {},
   "outputs": [
    {
     "data": {
      "text/plain": [
       "{'num1': 12, 'num2': 17, 'num3': 3, 'd': 2, 'operation': '+', 'result': 20}"
      ]
     },
     "execution_count": 21,
     "metadata": {},
     "output_type": "execute_result"
    }
   ],
   "source": [
    "result"
   ]
  }
 ],
 "metadata": {
  "kernelspec": {
   "display_name": "Python 3",
   "language": "python",
   "name": "python3"
  },
  "language_info": {
   "codemirror_mode": {
    "name": "ipython",
    "version": 3
   },
   "file_extension": ".py",
   "mimetype": "text/x-python",
   "name": "python",
   "nbconvert_exporter": "python",
   "pygments_lexer": "ipython3",
   "version": "3.9.6"
  }
 },
 "nbformat": 4,
 "nbformat_minor": 5
}
